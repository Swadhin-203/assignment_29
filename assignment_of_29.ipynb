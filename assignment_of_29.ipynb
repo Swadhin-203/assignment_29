{
 "cells": [
  {
   "cell_type": "markdown",
   "id": "d5924625",
   "metadata": {},
   "source": [
    "1- Who developed Python Programming Language? \n",
    " Ans:Guido Var Rossum"
   ]
  },
  {
   "cell_type": "markdown",
   "id": "7b047f4d",
   "metadata": {},
   "source": [
    "2- Which type of Programming does Python support? \n",
    "Ans:Python support dyanamic and object-oriented program."
   ]
  },
  {
   "cell_type": "markdown",
   "id": "bdda6b0b",
   "metadata": {},
   "source": [
    "3- . Is Python case sensitive when dealing with identifiers? \n",
    "Ans:Yes,Python case sensitive when dealing with identifiers \n"
   ]
  },
  {
   "cell_type": "markdown",
   "id": "0579a620",
   "metadata": {},
   "source": [
    "4-What is the correct extension of the Python file?\n",
    "Ans: .py is the correct extension of the Python File."
   ]
  },
  {
   "cell_type": "markdown",
   "id": "d33dc5c7",
   "metadata": {},
   "source": [
    "5- Is Python code compiled or interpreted? \n",
    "Ans- Python code interpreted"
   ]
  },
  {
   "cell_type": "markdown",
   "id": "192e2f1e",
   "metadata": {},
   "source": [
    "6- Name a few blocks of code used to define in Python language? \n",
    "Ans: Module is a few blocks of code used to define in Python language."
   ]
  },
  {
   "cell_type": "markdown",
   "id": "80948db9",
   "metadata": {},
   "source": [
    "7- State a character used to give single-line comments in Python? \n",
    "Ans- # is the character used to give single-line comments in python"
   ]
  },
  {
   "cell_type": "markdown",
   "id": "aceb53b8",
   "metadata": {},
   "source": [
    " 8-Mention functions which can help us to find the version of python that we are currently working on? \n",
    "    Ans: python_verson() is the function that help us to find the version of python that we are currently working on"
   ]
  },
  {
   "cell_type": "markdown",
   "id": "1dcb4272",
   "metadata": {},
   "source": [
    "9-Python supports the creation of anonymous functions at runtime, using a construct called \n",
    "Ans: lambda\n"
   ]
  },
  {
   "cell_type": "markdown",
   "id": "4ded1bcf",
   "metadata": {},
   "source": [
    "10- What does pip stand for python? \n",
    "Ans: Pip stand for preferred installer program"
   ]
  },
  {
   "cell_type": "markdown",
   "id": "13930bdd",
   "metadata": {},
   "source": [
    "11- Mention a few built-in functions in python? \n",
    "Ans:Some built-in function are print(),type(),input(),dir(),max(),min()"
   ]
  },
  {
   "cell_type": "markdown",
   "id": "8b11a239",
   "metadata": {},
   "source": [
    "12-What is the maximum possible length of an identifier in Python?\n",
    "Ans:79"
   ]
  },
  {
   "cell_type": "markdown",
   "id": "2277a2a2",
   "metadata": {},
   "source": [
    "13-What are the benefits of using Python?\n",
    "Ans:Python is very simple language and it's a open source language and it has various application such as Data Science,Web devlopment,System automation and adminstration,Basic game devlopment etc."
   ]
  },
  {
   "cell_type": "markdown",
   "id": "d6da26ba",
   "metadata": {},
   "source": [
    "14-How is memory managed in Python? \n",
    "Ans:Memory management in Python involves a private heap containing all Python objects and data structures. The management of this private heap is ensured internally by the Python memory manager."
   ]
  },
  {
   "cell_type": "code",
   "execution_count": null,
   "id": "eedd96a2",
   "metadata": {},
   "outputs": [],
   "source": [
    "15- How to install Python on Windows and set path variables? \n",
    "Right-clicking This PC and going to Properties.\n",
    "Clicking on the Advanced system settings in the menu on the left.\n",
    "Clicking on the Environment Variables button o​n the bottom right.\n",
    "In the System variables section, selecting the Path variable and clicking on Edit."
   ]
  },
  {
   "cell_type": "markdown",
   "id": "a9f4f7d4",
   "metadata": {},
   "source": [
    "16-. Is indentation required in python? \n",
    "Ans:Yes, Indentation is the most required things in the python.\n"
   ]
  }
 ],
 "metadata": {
  "kernelspec": {
   "display_name": "Python 3 (ipykernel)",
   "language": "python",
   "name": "python3"
  },
  "language_info": {
   "codemirror_mode": {
    "name": "ipython",
    "version": 3
   },
   "file_extension": ".py",
   "mimetype": "text/x-python",
   "name": "python",
   "nbconvert_exporter": "python",
   "pygments_lexer": "ipython3",
   "version": "3.10.5"
  }
 },
 "nbformat": 4,
 "nbformat_minor": 5
}
